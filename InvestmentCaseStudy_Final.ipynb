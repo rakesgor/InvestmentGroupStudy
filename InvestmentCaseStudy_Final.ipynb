{
 "cells": [
  {
   "cell_type": "markdown",
   "metadata": {},
   "source": [
    "## Group Project - Investment Case Study\n",
    "   #### Group Members:\n",
    "    -  Vinayak Bandhu\n",
    "    -  Sarathbabu Sankaran\n",
    "    -  Puneet Agarwal\n",
    "    -  Rakesh Gorai"
   ]
  },
  {
   "cell_type": "markdown",
   "metadata": {},
   "source": [
    "### Checkpoint 1 : Data Cleaning"
   ]
  },
  {
   "cell_type": "code",
   "execution_count": null,
   "metadata": {},
   "outputs": [],
   "source": [
    "# Supress Warnings\n",
    "\n",
    "import warnings\n",
    "warnings.filterwarnings('ignore')"
   ]
  },
  {
   "cell_type": "code",
   "execution_count": null,
   "metadata": {},
   "outputs": [],
   "source": [
    "# Import sys,Numpy,pandas,chardet packages\n",
    "\n",
    "import numpy as np\n",
    "import pandas as pd"
   ]
  },
  {
   "cell_type": "code",
   "execution_count": null,
   "metadata": {},
   "outputs": [],
   "source": [
    "# Reading data from different data files\n",
    "\n",
    "companies = pd.read_csv('companies.txt', sep='\\t', encoding='ISO-8859-1')\n",
    "rounds2 = pd.read_csv('rounds2.csv', encoding='ISO-8859-1')\n",
    "mapping = pd.read_csv('mapping.csv')"
   ]
  },
  {
   "cell_type": "code",
   "execution_count": null,
   "metadata": {},
   "outputs": [],
   "source": [
    "#Cleaning Data in Dataframes (removing special characters)\n",
    "\n",
    "companies['permalink'] = companies.permalink.str.encode('utf-8').str.decode('ascii','ignore').str.lower()\n",
    "rounds2['company_permalink'] = rounds2.company_permalink.str.encode('utf-8').str.decode('ascii','ignore').str.lower()\n",
    "companies['name'] = companies.name.str.encode('utf-8').str.decode('ascii', 'ignore').str.lower()"
   ]
  },
  {
   "cell_type": "code",
   "execution_count": null,
   "metadata": {},
   "outputs": [],
   "source": [
    "# Unique companies present in rounds2 and companies files:\n",
    "\n",
    "print(rounds2['company_permalink'].nunique())\n",
    "print(companies['permalink'].nunique())"
   ]
  },
  {
   "cell_type": "code",
   "execution_count": null,
   "metadata": {},
   "outputs": [],
   "source": [
    "# Inspect companies dataframe \n",
    "\n",
    "print(companies.shape)\n",
    "print(companies.info())\n",
    "print(companies.describe())"
   ]
  },
  {
   "cell_type": "code",
   "execution_count": null,
   "metadata": {},
   "outputs": [],
   "source": [
    "# Inspect rounds2 dataframe\n",
    "\n",
    "print(rounds2.shape)\n",
    "print(rounds2.info())\n",
    "print(rounds2.describe(include = 'all'))"
   ]
  },
  {
   "cell_type": "code",
   "execution_count": null,
   "metadata": {},
   "outputs": [],
   "source": [
    "# Check to see which column can be used as unique key in companies dataframe\n",
    "\n",
    "## Check for non-null\n",
    "print(companies.isnull().sum())\n",
    "\n",
    "## Check for Number of rows and columns:\n",
    "print(companies.shape)\n",
    "\n",
    "## Check for Number of unique values in each columns:\n",
    "print(companies.nunique())"
   ]
  },
  {
   "cell_type": "code",
   "execution_count": null,
   "metadata": {},
   "outputs": [],
   "source": [
    "# Check whether any company in rounds2 which is not present in companies dataframe\n",
    "\n",
    "companies.loc[~companies['permalink'].isin(rounds2['company_permalink']),:]"
   ]
  },
  {
   "cell_type": "code",
   "execution_count": null,
   "metadata": {},
   "outputs": [],
   "source": [
    "# Merge the companies and rounds2 dataframe. Since the name of common column in both the dataframe is not same,\n",
    "# the name of company_permalink is renamed to permalink to remove the duplication of column in master_frame\n",
    "\n",
    "master_frame = pd.merge(rounds2.rename(columns={'company_permalink':'permalink'}), companies, how = 'inner', on = 'permalink')"
   ]
  },
  {
   "cell_type": "code",
   "execution_count": null,
   "metadata": {},
   "outputs": [],
   "source": [
    "# No of observations in master_frame\n",
    "\n",
    "master_frame.shape[0]"
   ]
  },
  {
   "cell_type": "code",
   "execution_count": null,
   "metadata": {},
   "outputs": [],
   "source": [
    "# Inspect the master_dataframe\n",
    "\n",
    "print(master_frame.shape)\n",
    "print(master_frame.describe)\n",
    "print(master_frame.info())"
   ]
  },
  {
   "cell_type": "markdown",
   "metadata": {},
   "source": [
    "#### Cleaning the master_frame dataset"
   ]
  },
  {
   "cell_type": "code",
   "execution_count": null,
   "metadata": {},
   "outputs": [],
   "source": [
    "# Storing the master_frame Dataset into a temp dataframe to check to retained rows percentage after cleaning the data\n",
    "master_frame_temp=master_frame\n",
    "\n",
    "# calculating number of null values in columns and their percentage\n",
    "print(master_frame.isnull().sum())\n",
    "\n",
    "round(100*(master_frame.isnull().sum()/len(master_frame.index)), 2)"
   ]
  },
  {
   "cell_type": "code",
   "execution_count": null,
   "metadata": {},
   "outputs": [],
   "source": [
    "# Drop unnecessary columns with high percentage of null values considering above 10%\n",
    "\n",
    "master_frame.drop(['funding_round_code','founded_at'],axis=1,inplace=True)\n",
    "\n",
    "round(100*(master_frame.isnull().sum()/len(master_frame.index)), 2)"
   ]
  },
  {
   "cell_type": "code",
   "execution_count": null,
   "metadata": {},
   "outputs": [],
   "source": [
    "# Remove rows with total number of null values 7 or more\n",
    "master_frame=master_frame[(master_frame.isnull().sum(axis=1))<7]\n",
    "\n",
    "# Remove rows with raised_amount_usd as null\n",
    "master_frame=master_frame[~master_frame.raised_amount_usd.isnull()]\n",
    "\n",
    "# Remove rows with null value country codes\n",
    "master_frame=master_frame[~master_frame.country_code.isnull()]\n",
    "\n",
    "round(100*(master_frame.isnull().sum()/len(master_frame.index)), 2)"
   ]
  },
  {
   "cell_type": "code",
   "execution_count": null,
   "metadata": {},
   "outputs": [],
   "source": [
    "# Check number of retained rows\n",
    "\n",
    "round((master_frame.shape[0]/master_frame_temp.shape[0])*100,2)"
   ]
  },
  {
   "cell_type": "code",
   "execution_count": null,
   "metadata": {},
   "outputs": [],
   "source": [
    "# Converting the raised_amount_usd from usd to usd million\n",
    "\n",
    "master_frame[['raised_amount_usd']]=round(master_frame[['raised_amount_usd']].apply(lambda x:x/1000000),2)"
   ]
  },
  {
   "cell_type": "code",
   "execution_count": null,
   "metadata": {},
   "outputs": [],
   "source": [
    "# Average funding amount in Venture,Private equity, angel and seed type investments\n",
    "\n",
    "group_by_funding_round_type = master_frame.groupby('funding_round_type')\n",
    "average_fund = pd.DataFrame(group_by_funding_round_type['raised_amount_usd'].mean())\n",
    "\n",
    "#round(master_frame.loc[master_frame['funding_round_type']=='angel'].mean(),2)\n",
    "round(average_fund.loc[['venture','angel','seed','private_equity']],3).sort_values(by = 'raised_amount_usd', ascending = False)"
   ]
  },
  {
   "cell_type": "markdown",
   "metadata": {},
   "source": [
    "Here the `venture` is the second highest investment type with raised_amount_mn_usd and falls under the 5 to 15 M USD window of Spark Funds. Hence this is the most suitable investment type for Spark Funds."
   ]
  },
  {
   "cell_type": "markdown",
   "metadata": {},
   "source": [
    "### Checkpoint 3: Country Analysis"
   ]
  },
  {
   "cell_type": "code",
   "execution_count": null,
   "metadata": {},
   "outputs": [],
   "source": [
    "# Top nine countries(based on the total investment amount each country has received)\n",
    "\n",
    "#Create temporary dataframe to contain only venture type investments data\n",
    "venture_investment_frame = master_frame.loc[master_frame['funding_round_type'] == 'venture']\n",
    "\n",
    "#Create top9 dataframe by grouping the venture_investment_dataframe\n",
    "group_by_country=venture_investment_frame.groupby('country_code')\n",
    "top9 = group_by_country['raised_amount_usd'].sum().sort_values(ascending=False).head(9)\n",
    "print(top9)"
   ]
  },
  {
   "cell_type": "markdown",
   "metadata": {},
   "source": [
    "Here the `USA`, `GBR` and `IND` are the Top 3 English speaking countries in venture venture type investment. Hence are the most suitable countries where Sparks funds can invest."
   ]
  },
  {
   "cell_type": "markdown",
   "metadata": {},
   "source": [
    "### Checkpoint 4: Sector Analysis 1"
   ]
  },
  {
   "cell_type": "code",
   "execution_count": null,
   "metadata": {},
   "outputs": [],
   "source": [
    "# Create sector_frame to contain data from countries 'USA', 'GBR' and 'IND'\n",
    "\n",
    "sector_frame=venture_investment_frame.loc[(venture_investment_frame['country_code'] == 'USA') | (venture_investment_frame['country_code'] == 'GBR') | (venture_investment_frame['country_code'] == 'IND')]\n",
    "\n",
    "# Create a column primamry_sector by spliting category_list on '|' and taking the left value\n",
    "sector_frame['primary_sector'] = (sector_frame['category_list'].str.split('|',  expand = True)).iloc[:,0]\n",
    "sector_frame"
   ]
  },
  {
   "cell_type": "code",
   "execution_count": null,
   "metadata": {},
   "outputs": [],
   "source": [
    "# Inspect mapping file for null values\n",
    "\n",
    "len(mapping.index)\n",
    "print(mapping.isnull().sum())\n",
    "print(round(100*(mapping.isnull().sum()/len(mapping.index)), 2))"
   ]
  },
  {
   "cell_type": "markdown",
   "metadata": {},
   "source": [
    "#### Cleaning the mapping frame"
   ]
  },
  {
   "cell_type": "code",
   "execution_count": null,
   "metadata": {},
   "outputs": [],
   "source": [
    "# Cleaning the mapping dataframe. The 'na' in each category is replaced with '0' in the dataframe.\n",
    "# hence changing the '0' to 'na' again.\n",
    "\n",
    "mapping['category_list'] = mapping['category_list'].str.replace('0', 'na', regex=False)\n",
    "mapping.head(10)"
   ]
  },
  {
   "cell_type": "code",
   "execution_count": null,
   "metadata": {},
   "outputs": [],
   "source": [
    "# Normalizing the mapping dataframe so that merge operation can be done appropriately.\n",
    "\n",
    "mapping = pd.melt(mapping, id_vars = [\"category_list\"], var_name = \"main_sector\")\n",
    "mapping.head(10)"
   ]
  },
  {
   "cell_type": "code",
   "execution_count": null,
   "metadata": {},
   "outputs": [],
   "source": [
    "# Removing the unwanted rows which doesn't provide any mapping information\n",
    "mapping = mapping[~(mapping['value'] == 0)]\n",
    "\n",
    "# Dropping the value column, since it is not useful.\n",
    "mapping.drop(['value'],axis=1,inplace=True)\n",
    "mapping.head(10)"
   ]
  },
  {
   "cell_type": "code",
   "execution_count": null,
   "metadata": {},
   "outputs": [],
   "source": [
    "# Merging the sector data with main sector mapping\n",
    "\n",
    "sector_frame = pd.merge(sector_frame,mapping.rename(columns={'category_list':'primary_sector'}), how = 'inner', on = 'primary_sector' )\n",
    "\n",
    "# Dropping rows with primary_sector value null\n",
    "sector_frame= sector_frame[~sector_frame.primary_sector.isnull()]\n",
    "sector_frame.head(10)"
   ]
  },
  {
   "cell_type": "markdown",
   "metadata": {},
   "source": [
    "### Checkpoint 5: Sector Analysis 2"
   ]
  },
  {
   "cell_type": "code",
   "execution_count": null,
   "metadata": {},
   "outputs": [],
   "source": [
    "# Data frame D1 for country USA and funding amount between 5 and 15 M USD.\n",
    "\n",
    "# Two new columns are added total_amount_invested and total_number_of_investments\n",
    "D1 = sector_frame.loc[(sector_frame['country_code'] == 'USA') & (sector_frame['raised_amount_usd'] >= 5) & (sector_frame['raised_amount_usd'] <= 15)]\n",
    "D1_groupBy = D1.groupby('main_sector')\n",
    "D1['total_amount_invested'] = D1_groupBy['raised_amount_usd'].transform('sum')\n",
    "D1['total_number_of_investments'] = D1_groupBy['raised_amount_usd'].transform('count')\n",
    "D1"
   ]
  },
  {
   "cell_type": "code",
   "execution_count": null,
   "metadata": {},
   "outputs": [],
   "source": [
    "# Data frame D2 for country GBR and funding amount between 5 and 15 M USD.\n",
    "\n",
    "# Two new columns are added total_amount_invested and total_number_of_investments\n",
    "D2 = sector_frame.loc[(sector_frame['country_code'] == 'GBR') & (sector_frame['raised_amount_usd'] >= 5) & (sector_frame['raised_amount_usd'] <= 15)]\n",
    "D2_groupBy = D2.groupby('main_sector')\n",
    "D2['total_amount_invested'] = D2_groupBy['raised_amount_usd'].transform('sum')\n",
    "D2['total_number_of_investments'] = D2_groupBy['raised_amount_usd'].transform('count')\n",
    "D2"
   ]
  },
  {
   "cell_type": "code",
   "execution_count": null,
   "metadata": {},
   "outputs": [],
   "source": [
    "# Data frame D3 for country IND and funding amount between 5 and 15 M USD.\n",
    "\n",
    "# Two new columns are added total_amount_invested and total_number_of_investments\n",
    "D3 = sector_frame.loc[(sector_frame['country_code'] == 'IND') & (sector_frame['raised_amount_usd'] >= 5) & (sector_frame['raised_amount_usd'] <= 15)]\n",
    "D3_groupBy = D3.groupby('main_sector')\n",
    "D3['total_amount_invested'] = D3.groupby('main_sector')['raised_amount_usd'].transform('sum')\n",
    "D3['total_number_of_investments'] = D3.groupby('main_sector')['raised_amount_usd'].transform('count')\n",
    "D3"
   ]
  },
  {
   "cell_type": "code",
   "execution_count": null,
   "metadata": {},
   "outputs": [],
   "source": [
    "#Total number of investments (count) and Total amount of investment (USD) in USA\n",
    "\n",
    "print(D1['raised_amount_usd'].count())\n",
    "print(round(D1['raised_amount_usd'].sum(),2))"
   ]
  },
  {
   "cell_type": "code",
   "execution_count": null,
   "metadata": {},
   "outputs": [],
   "source": [
    "#Total number of investments (count) and Total amount of investment (USD) in GBR\n",
    "\n",
    "print(D2['raised_amount_usd'].count())\n",
    "print(round(D2['raised_amount_usd'].sum(),2))"
   ]
  },
  {
   "cell_type": "code",
   "execution_count": null,
   "metadata": {},
   "outputs": [],
   "source": [
    "#Total number of investments (count) and Total amount of investment (USD) in IND\n",
    "\n",
    "print(D3['raised_amount_usd'].count())\n",
    "print(round(D3['raised_amount_usd'].sum(),2))"
   ]
  },
  {
   "cell_type": "code",
   "execution_count": null,
   "metadata": {},
   "outputs": [],
   "source": [
    "# Counting number of investments in USA based on raised_amount_usd \n",
    "\n",
    "D1_groupBy['raised_amount_usd'].count().sort_values(ascending = False).head(3)"
   ]
  },
  {
   "cell_type": "markdown",
   "metadata": {},
   "source": [
    "The top 3 main_sector based on the count of investments in USA are : `Others`, `Social, Finance, Analytics, Advertising` and `Cleantech / Semiconductors`"
   ]
  },
  {
   "cell_type": "code",
   "execution_count": null,
   "metadata": {},
   "outputs": [],
   "source": [
    "# Counting number of investments in GBR based on raised_amount_usd \n",
    "\n",
    "D2_groupBy['raised_amount_usd'].count().sort_values(ascending = False).head(3)"
   ]
  },
  {
   "cell_type": "markdown",
   "metadata": {},
   "source": [
    "The top 3 main_sector based on the count of investments in GBR are : `Others`, `Social, Finance, Analytics, Advertising` and `Cleantech / Semiconductors`"
   ]
  },
  {
   "cell_type": "code",
   "execution_count": null,
   "metadata": {},
   "outputs": [],
   "source": [
    "# Counting number of investments in IND based on raised_amount_usd\n",
    "\n",
    "D3_groupBy['raised_amount_usd'].count().sort_values(ascending = False).head(3)"
   ]
  },
  {
   "cell_type": "markdown",
   "metadata": {},
   "source": [
    "The top 3 main_sector based on the count of investments in IND are : `Others`, `Social, Finance, Analytics, Advertising` and `News, Search and Messaging`"
   ]
  },
  {
   "cell_type": "code",
   "execution_count": null,
   "metadata": {},
   "outputs": [],
   "source": [
    "#Name of the company in USA for \"Others\" Sector, which is top in amount_invested\n",
    "\n",
    "D1_groupby_name=D1[D1.main_sector=='Others'].groupby('name')\n",
    "D1_groupby_name['raised_amount_usd'].sum().sort_values(ascending = False).head(5)"
   ]
  },
  {
   "cell_type": "code",
   "execution_count": null,
   "metadata": {},
   "outputs": [],
   "source": [
    "#Name of the company in GBR for \"Others\" Sector, which is top in amount invested\n",
    "\n",
    "D2_groupby_name=D2[D2.main_sector=='Others'].groupby('name')\n",
    "D2_groupby_name['raised_amount_usd'].sum().sort_values(ascending = False).head(5)"
   ]
  },
  {
   "cell_type": "code",
   "execution_count": null,
   "metadata": {},
   "outputs": [],
   "source": [
    "#Name of the company in IND for \"Others\" Sector, which is top in amount invested\n",
    "\n",
    "D3_groupby_name=D3[D3.main_sector=='Others'].groupby('name')\n",
    "D3_groupby_name['raised_amount_usd'].sum().sort_values(ascending = False).head(5)"
   ]
  },
  {
   "cell_type": "code",
   "execution_count": null,
   "metadata": {},
   "outputs": [],
   "source": [
    "#Name of the company in USA for \"Social, Finance, Analytics, Advertising\" Sector, which is top in amount invested.\n",
    "\n",
    "D1_groupby_name1=D1[D1.main_sector=='Social, Finance, Analytics, Advertising'].groupby('name')\n",
    "D1_groupby_name1['raised_amount_usd'].sum().sort_values(ascending = False).head(5)"
   ]
  },
  {
   "cell_type": "code",
   "execution_count": null,
   "metadata": {},
   "outputs": [],
   "source": [
    "#Name of the company in GBR for \"Social, Finance, Analytics, Advertising\" Sector, which is top in amount invested.\n",
    "\n",
    "D2_groupby_name2=D2[D2.main_sector=='Social, Finance, Analytics, Advertising'].groupby('name')\n",
    "D2_groupby_name2['raised_amount_usd'].sum().sort_values(ascending = False).head(5)"
   ]
  },
  {
   "cell_type": "code",
   "execution_count": null,
   "metadata": {},
   "outputs": [],
   "source": [
    "#Name of the company in IND for \"Social, Finance, Analytics, Advertising\" Sector, which is top in amount invested.\n",
    "\n",
    "D3_groupby_name3=D3[D3.main_sector=='Social, Finance, Analytics, Advertising'].groupby('name')\n",
    "D3_groupby_name3['raised_amount_usd'].sum().sort_values(ascending = False).head(5)"
   ]
  },
  {
   "cell_type": "markdown",
   "metadata": {},
   "source": [
    "### Checkpoint 6: Plots"
   ]
  },
  {
   "cell_type": "code",
   "execution_count": null,
   "metadata": {},
   "outputs": [],
   "source": [
    "# Exporting data to Excel to create a tableau connection to plot graphs\n",
    "\n",
    "master_frame.to_excel(pd.ExcelWriter('Master_Frame_Data.xlsx'),'master_frame_data')\n",
    "sector_frame.to_excel(pd.ExcelWriter('Sector_Frame_Data.xlsx'),'sector_frame_data')"
   ]
  },
  {
   "cell_type": "code",
   "execution_count": null,
   "metadata": {},
   "outputs": [],
   "source": [
    "# Analyse excel for the exported dataframes and, \n",
    "# match it with results below to verify proper export of master_frame and sector_frame\n",
    "\n",
    "# master_frame validation\n",
    "print(master_frame.shape)\n",
    "print(master_frame.info())\n",
    "\n",
    "# sector_frame_validation\n",
    "print(sector_frame.shape)\n",
    "print(sector_frame.info())"
   ]
  }
 ],
 "metadata": {
  "kernelspec": {
   "display_name": "Python 3",
   "language": "python",
   "name": "python3"
  },
  "language_info": {
   "codemirror_mode": {
    "name": "ipython",
    "version": 3
   },
   "file_extension": ".py",
   "mimetype": "text/x-python",
   "name": "python",
   "nbconvert_exporter": "python",
   "pygments_lexer": "ipython3",
   "version": "3.6.5"
  }
 },
 "nbformat": 4,
 "nbformat_minor": 2
}
