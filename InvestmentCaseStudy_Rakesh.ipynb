{
 "cells": [
  {
   "cell_type": "markdown",
   "metadata": {},
   "source": [
    "## Group Project - Investment Case Study\n",
    "   #### Group Members:\n",
    "    -  Vinayak Bandhu\n",
    "    -  Sarathbabu Sankaran\n",
    "    -  Puneet Agarwal\n",
    "    -  Rakesh Gorai"
   ]
  },
  {
   "cell_type": "code",
   "execution_count": 1,
   "metadata": {},
   "outputs": [],
   "source": [
    "# Supress Warnings\n",
    "\n",
    "import warnings\n",
    "warnings.filterwarnings('ignore')"
   ]
  },
  {
   "cell_type": "code",
   "execution_count": 2,
   "metadata": {},
   "outputs": [],
   "source": [
    "# Import sys,Numpy,pandas,chardet packages\n",
    "\n",
    "import sys\n",
    "import numpy as np\n",
    "import pandas as pd\n",
    "import chardet"
   ]
  },
  {
   "cell_type": "code",
   "execution_count": 3,
   "metadata": {},
   "outputs": [
    {
     "name": "stdout",
     "output_type": "stream",
     "text": [
      "{'encoding': 'Windows-1254', 'confidence': 0.461086087463078, 'language': 'Turkish'}\n",
      "{'encoding': 'Windows-1254', 'confidence': 0.4186155476629225, 'language': 'Turkish'}\n"
     ]
    }
   ],
   "source": [
    "# Understanding encoding format in the text files\n",
    "\n",
    "print(chardet.detect(open('companies.txt','rb').read()))\n",
    "print(chardet.detect(open('rounds2.csv','rb').read()))"
   ]
  },
  {
   "cell_type": "code",
   "execution_count": 5,
   "metadata": {},
   "outputs": [],
   "source": [
    "# Reading data from different data files\n",
    "\n",
    "companies = pd.read_csv('companies.txt', sep='\\t', encoding='ISO-8859-1')\n",
    "rounds2 = pd.read_csv('rounds2.csv', encoding='ISO-8859-1')\n",
    "mapping = pd.read_csv('mapping.csv')"
   ]
  },
  {
   "cell_type": "code",
   "execution_count": 77,
   "metadata": {},
   "outputs": [],
   "source": [
    "#Cleaning Data in Dataframes (removing special characters)\n",
    "\n",
    "companies['permalink'] = companies.permalink.str.encode('utf-8').str.decode('ascii','ignore').str.lower()\n",
    "rounds2['company_permalink'] = rounds2.company_permalink.str.encode('utf-8').str.decode('ascii','ignore').str.lower()"
   ]
  },
  {
   "cell_type": "markdown",
   "metadata": {},
   "source": [
    "### Table 1.1 Analysis"
   ]
  },
  {
   "cell_type": "code",
   "execution_count": 102,
   "metadata": {},
   "outputs": [
    {
     "name": "stdout",
     "output_type": "stream",
     "text": [
      "66368\n",
      "66368\n"
     ]
    }
   ],
   "source": [
    "# Unique companies present in rounds2 and companies files:\n",
    "\n",
    "print(rounds2['company_permalink'].nunique())\n",
    "print(companies['permalink'].nunique())"
   ]
  },
  {
   "cell_type": "code",
   "execution_count": 103,
   "metadata": {},
   "outputs": [
    {
     "name": "stdout",
     "output_type": "stream",
     "text": [
      "permalink            0\n",
      "name                 1\n",
      "homepage_url      5058\n",
      "category_list     3148\n",
      "status               0\n",
      "country_code      6958\n",
      "state_code        8547\n",
      "region            8030\n",
      "city              8028\n",
      "founded_at       15221\n",
      "dtype: int64\n",
      "(66368, 10)\n",
      "permalink        66368\n",
      "name             66102\n",
      "homepage_url     61191\n",
      "category_list    27296\n",
      "status               4\n",
      "country_code       137\n",
      "state_code         311\n",
      "region            1092\n",
      "city              5111\n",
      "founded_at        3978\n",
      "dtype: int64\n"
     ]
    }
   ],
   "source": [
    "# Check to see which column can be used as unique key in companies dataframe\n",
    "\n",
    "## Check for non-null\n",
    "print(companies.isnull().sum())\n",
    "\n",
    "## Check for Number of rows and columns:\n",
    "print(companies.shape)\n",
    "\n",
    "## Check for Number of unique values in each columns:\n",
    "print(companies.nunique())"
   ]
  },
  {
   "cell_type": "code",
   "execution_count": 104,
   "metadata": {},
   "outputs": [
    {
     "data": {
      "text/plain": [
       "False"
      ]
     },
     "execution_count": 104,
     "metadata": {},
     "output_type": "execute_result"
    }
   ],
   "source": [
    "# Check for any company in rounds2 which is not present in companies dataframe\n",
    "~rounds2['company_permalink'].isin(companies['permalink']).all()"
   ]
  },
  {
   "cell_type": "code",
   "execution_count": 111,
   "metadata": {},
   "outputs": [],
   "source": [
    "# Create master_frame\n",
    "\n",
    "master_frame = pd.merge(rounds2.rename(columns={'company_permalink':'permalink'}), companies, how = 'outer', on = 'permalink')"
   ]
  },
  {
   "cell_type": "code",
   "execution_count": 115,
   "metadata": {},
   "outputs": [
    {
     "data": {
      "text/plain": [
       "(114949, 15)"
      ]
     },
     "execution_count": 115,
     "metadata": {},
     "output_type": "execute_result"
    }
   ],
   "source": [
    "master_frame.shape"
   ]
  },
  {
   "cell_type": "code",
   "execution_count": null,
   "metadata": {},
   "outputs": [],
   "source": []
  }
 ],
 "metadata": {
  "kernelspec": {
   "display_name": "Python 3",
   "language": "python",
   "name": "python3"
  },
  "language_info": {
   "codemirror_mode": {
    "name": "ipython",
    "version": 3
   },
   "file_extension": ".py",
   "mimetype": "text/x-python",
   "name": "python",
   "nbconvert_exporter": "python",
   "pygments_lexer": "ipython3",
   "version": "3.6.5"
  }
 },
 "nbformat": 4,
 "nbformat_minor": 2
}
