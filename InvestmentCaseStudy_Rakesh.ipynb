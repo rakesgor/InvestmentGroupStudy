{
 "cells": [
  {
   "cell_type": "markdown",
   "metadata": {},
   "source": [
    "## Group Project - Investment Case Study\n",
    "   #### Group Members:\n",
    "    -  Vinayak Bandhu\n",
    "    -  Sarathbabu Sankaran\n",
    "    -  Puneet Agarwal\n",
    "    -  Rakesh Gorai"
   ]
  },
  {
   "cell_type": "code",
   "execution_count": 1,
   "metadata": {},
   "outputs": [],
   "source": [
    "# Supress Warnings\n",
    "\n",
    "import warnings\n",
    "warnings.filterwarnings('ignore')"
   ]
  },
  {
   "cell_type": "code",
   "execution_count": 2,
   "metadata": {},
   "outputs": [],
   "source": [
    "# Import sys,Numpy,pandas,chardet packages\n",
    "\n",
    "import sys\n",
    "import numpy as np\n",
    "import pandas as pd\n",
    "import chardet"
   ]
  },
  {
   "cell_type": "code",
   "execution_count": 3,
   "metadata": {},
   "outputs": [],
   "source": [
    "# Reading data from different data files\n",
    "\n",
    "companies = pd.read_csv('companies.txt', sep='\\t', encoding='ISO-8859-1')\n",
    "rounds2 = pd.read_csv('rounds2.csv', encoding='ISO-8859-1')\n",
    "mapping = pd.read_csv('mapping.csv')"
   ]
  },
  {
   "cell_type": "code",
   "execution_count": 4,
   "metadata": {},
   "outputs": [],
   "source": [
    "#Cleaning Data in Dataframes (removing special characters)\n",
    "\n",
    "companies['permalink'] = companies.permalink.str.encode('utf-8').str.decode('ascii','ignore').str.lower()\n",
    "rounds2['company_permalink'] = rounds2.company_permalink.str.encode('utf-8').str.decode('ascii','ignore').str.lower()"
   ]
  },
  {
   "cell_type": "markdown",
   "metadata": {},
   "source": [
    "### Table 1.1 Analysis"
   ]
  },
  {
   "cell_type": "code",
   "execution_count": 5,
   "metadata": {},
   "outputs": [
    {
     "name": "stdout",
     "output_type": "stream",
     "text": [
      "66368\n",
      "66368\n"
     ]
    }
   ],
   "source": [
    "# Unique companies present in rounds2 and companies files:\n",
    "\n",
    "print(rounds2['company_permalink'].nunique())\n",
    "print(companies['permalink'].nunique())"
   ]
  },
  {
   "cell_type": "code",
   "execution_count": 6,
   "metadata": {},
   "outputs": [
    {
     "name": "stdout",
     "output_type": "stream",
     "text": [
      "permalink            0\n",
      "name                 1\n",
      "homepage_url      5058\n",
      "category_list     3148\n",
      "status               0\n",
      "country_code      6958\n",
      "state_code        8547\n",
      "region            8030\n",
      "city              8028\n",
      "founded_at       15221\n",
      "dtype: int64\n",
      "(66368, 10)\n",
      "permalink        66368\n",
      "name             66102\n",
      "homepage_url     61191\n",
      "category_list    27296\n",
      "status               4\n",
      "country_code       137\n",
      "state_code         311\n",
      "region            1092\n",
      "city              5111\n",
      "founded_at        3978\n",
      "dtype: int64\n"
     ]
    }
   ],
   "source": [
    "# Check to see which column can be used as unique key in companies dataframe\n",
    "\n",
    "## Check for non-null\n",
    "print(companies.isnull().sum())\n",
    "\n",
    "## Check for Number of rows and columns:\n",
    "print(companies.shape)\n",
    "\n",
    "## Check for Number of unique values in each columns:\n",
    "print(companies.nunique())"
   ]
  },
  {
   "cell_type": "code",
   "execution_count": 7,
   "metadata": {},
   "outputs": [
    {
     "data": {
      "text/plain": [
       "False"
      ]
     },
     "execution_count": 7,
     "metadata": {},
     "output_type": "execute_result"
    }
   ],
   "source": [
    "# Check for any company in rounds2 which is not present in companies dataframe\n",
    "~rounds2['company_permalink'].isin(companies['permalink']).all()"
   ]
  },
  {
   "cell_type": "code",
   "execution_count": 43,
   "metadata": {},
   "outputs": [],
   "source": [
    "# Create master_frame\n",
    "\n",
    "master_frame = pd.merge(rounds2.rename(columns={'company_permalink':'permalink'}), companies, how = 'outer', on = 'permalink')"
   ]
  },
  {
   "cell_type": "code",
   "execution_count": 44,
   "metadata": {},
   "outputs": [
    {
     "data": {
      "text/plain": [
       "(114949, 15)"
      ]
     },
     "execution_count": 44,
     "metadata": {},
     "output_type": "execute_result"
    }
   ],
   "source": [
    "master_frame.shape"
   ]
  },
  {
   "cell_type": "markdown",
   "metadata": {},
   "source": [
    "### Cleaning the master_frame Dataset"
   ]
  },
  {
   "cell_type": "code",
   "execution_count": 45,
   "metadata": {},
   "outputs": [
    {
     "name": "stdout",
     "output_type": "stream",
     "text": [
      "permalink                      0\n",
      "funding_round_permalink        0\n",
      "funding_round_type             0\n",
      "funding_round_code         83809\n",
      "funded_at                      0\n",
      "raised_amount_usd          19990\n",
      "name                           1\n",
      "homepage_url                6134\n",
      "category_list               3410\n",
      "status                         0\n",
      "country_code                8678\n",
      "state_code                 10946\n",
      "region                     10167\n",
      "city                       10164\n",
      "founded_at                 20521\n",
      "dtype: int64\n"
     ]
    },
    {
     "data": {
      "text/plain": [
       "permalink                   0.00\n",
       "funding_round_permalink     0.00\n",
       "funding_round_type          0.00\n",
       "funding_round_code         72.91\n",
       "funded_at                   0.00\n",
       "raised_amount_usd          17.39\n",
       "name                        0.00\n",
       "homepage_url                5.34\n",
       "category_list               2.97\n",
       "status                      0.00\n",
       "country_code                7.55\n",
       "state_code                  9.52\n",
       "region                      8.84\n",
       "city                        8.84\n",
       "founded_at                 17.85\n",
       "dtype: float64"
      ]
     },
     "execution_count": 45,
     "metadata": {},
     "output_type": "execute_result"
    }
   ],
   "source": [
    "# Storing the master_frame Dataset into a temp dataframe to check to retained rows percentage after cleaning the data\n",
    "master_frame_temp=master_frame\n",
    "\n",
    "# calculating number of null values in columns and their percentage\n",
    "\n",
    "print(master_frame.isnull().sum())\n",
    "round(100*(master_frame.isnull().sum()/len(master_frame.index)), 2)"
   ]
  },
  {
   "cell_type": "code",
   "execution_count": 46,
   "metadata": {},
   "outputs": [
    {
     "data": {
      "text/plain": [
       "permalink                   0.00\n",
       "funding_round_permalink     0.00\n",
       "funding_round_type          0.00\n",
       "funded_at                   0.00\n",
       "raised_amount_usd          17.39\n",
       "name                        0.00\n",
       "category_list               2.97\n",
       "status                      0.00\n",
       "country_code                7.55\n",
       "region                      8.84\n",
       "city                        8.84\n",
       "dtype: float64"
      ]
     },
     "execution_count": 46,
     "metadata": {},
     "output_type": "execute_result"
    }
   ],
   "source": [
    "# Drop unnecessary columns\n",
    "\n",
    "master_frame.drop(['funding_round_code','homepage_url','state_code','founded_at'],axis=1,inplace=True)\n",
    "round(100*(master_frame.isnull().sum()/len(master_frame.index)), 2)"
   ]
  },
  {
   "cell_type": "code",
   "execution_count": 47,
   "metadata": {},
   "outputs": [
    {
     "data": {
      "text/plain": [
       "permalink                  0.00\n",
       "funding_round_permalink    0.00\n",
       "funding_round_type         0.00\n",
       "funded_at                  0.00\n",
       "raised_amount_usd          0.00\n",
       "name                       0.00\n",
       "category_list              1.10\n",
       "status                     0.00\n",
       "country_code               6.16\n",
       "region                     7.42\n",
       "city                       7.42\n",
       "dtype: float64"
      ]
     },
     "execution_count": 47,
     "metadata": {},
     "output_type": "execute_result"
    }
   ],
   "source": [
    "# Remove rows with raised_amount_usd as null\n",
    "\n",
    "master_frame=master_frame[~master_frame.raised_amount_usd.isnull()]\n",
    "round(100*(master_frame.isnull().sum()/len(master_frame.index)), 2)"
   ]
  },
  {
   "cell_type": "code",
   "execution_count": 50,
   "metadata": {},
   "outputs": [
    {
     "data": {
      "text/plain": [
       "82.61"
      ]
     },
     "execution_count": 50,
     "metadata": {},
     "output_type": "execute_result"
    }
   ],
   "source": [
    "# Check number of retained rows\n",
    "\n",
    "round((master_frame.shape[0]/master_frame_temp.shape[0])*100,2)"
   ]
  },
  {
   "cell_type": "markdown",
   "metadata": {},
   "source": [
    "### Table 2.1 Analysis"
   ]
  },
  {
   "cell_type": "code",
   "execution_count": 1,
   "metadata": {},
   "outputs": [
    {
     "ename": "NameError",
     "evalue": "name 'master_frame' is not defined",
     "output_type": "error",
     "traceback": [
      "\u001b[1;31m---------------------------------------------------------------------------\u001b[0m",
      "\u001b[1;31mNameError\u001b[0m                                 Traceback (most recent call last)",
      "\u001b[1;32m<ipython-input-1-1c78ae93f6db>\u001b[0m in \u001b[0;36m<module>\u001b[1;34m()\u001b[0m\n\u001b[0;32m      1\u001b[0m \u001b[1;31m# Converting the raised_amount_usd from usd to usd million\u001b[0m\u001b[1;33m\u001b[0m\u001b[1;33m\u001b[0m\u001b[0m\n\u001b[0;32m      2\u001b[0m \u001b[1;33m\u001b[0m\u001b[0m\n\u001b[1;32m----> 3\u001b[1;33m \u001b[0mmaster_frame\u001b[0m\u001b[1;33m[\u001b[0m\u001b[1;33m[\u001b[0m\u001b[1;34m'raised_amount_usd'\u001b[0m\u001b[1;33m]\u001b[0m\u001b[1;33m]\u001b[0m\u001b[1;33m=\u001b[0m\u001b[0mround\u001b[0m\u001b[1;33m(\u001b[0m\u001b[0mmaster_frame\u001b[0m\u001b[1;33m[\u001b[0m\u001b[1;33m[\u001b[0m\u001b[1;34m'raised_amount_usd'\u001b[0m\u001b[1;33m]\u001b[0m\u001b[1;33m]\u001b[0m\u001b[1;33m.\u001b[0m\u001b[0mapply\u001b[0m\u001b[1;33m(\u001b[0m\u001b[1;32mlambda\u001b[0m \u001b[0mx\u001b[0m\u001b[1;33m:\u001b[0m\u001b[0mx\u001b[0m\u001b[1;33m/\u001b[0m\u001b[1;36m1000000\u001b[0m\u001b[1;33m)\u001b[0m\u001b[1;33m,\u001b[0m\u001b[1;36m2\u001b[0m\u001b[1;33m)\u001b[0m\u001b[1;33m\u001b[0m\u001b[0m\n\u001b[0m",
      "\u001b[1;31mNameError\u001b[0m: name 'master_frame' is not defined"
     ]
    }
   ],
   "source": [
    "# Converting the raised_amount_usd from usd to usd million\n",
    "\n",
    "master_frame[['raised_amount_usd']]=round(master_frame[['raised_amount_usd']].apply(lambda x:x/1000000),2)"
   ]
  },
  {
   "cell_type": "code",
   "execution_count": 55,
   "metadata": {},
   "outputs": [
    {
     "name": "stdout",
     "output_type": "stream",
     "text": [
      "raised_amount_usd    10.694886\n",
      "dtype: float64\n"
     ]
    }
   ],
   "source": [
    "# Average funding amount in venture type\n",
    "\n",
    "round(master_frame.loc[master_frame['funding_round_type']=='venture'].mean(),2)"
   ]
  },
  {
   "cell_type": "code",
   "execution_count": 60,
   "metadata": {},
   "outputs": [
    {
     "data": {
      "text/plain": [
       "raised_amount_usd    0.77\n",
       "dtype: float64"
      ]
     },
     "execution_count": 60,
     "metadata": {},
     "output_type": "execute_result"
    }
   ],
   "source": [
    "# Average funding amount in angel type\n",
    "\n",
    "round(master_frame.loc[master_frame['funding_round_type']=='angel'].mean(),2)"
   ]
  },
  {
   "cell_type": "code",
   "execution_count": 58,
   "metadata": {},
   "outputs": [
    {
     "name": "stdout",
     "output_type": "stream",
     "text": [
      "raised_amount_usd    0.568031\n",
      "dtype: float64\n"
     ]
    }
   ],
   "source": [
    "# Average funding amount in seed type\n",
    "\n",
    "round(master_frame.loc[master_frame['funding_round_type']=='seed'].mean(),2)"
   ]
  },
  {
   "cell_type": "code",
   "execution_count": 62,
   "metadata": {},
   "outputs": [
    {
     "data": {
      "text/plain": [
       "raised_amount_usd    63.3\n",
       "dtype: float64"
      ]
     },
     "execution_count": 62,
     "metadata": {},
     "output_type": "execute_result"
    }
   ],
   "source": [
    "# Average funding amount in private_equity type\n",
    "\n",
    "round(master_frame.loc[master_frame['funding_round_type']=='private_equity'].mean(),2)"
   ]
  },
  {
   "cell_type": "code",
   "execution_count": null,
   "metadata": {},
   "outputs": [],
   "source": []
  }
 ],
 "metadata": {
  "kernelspec": {
   "display_name": "Python 3",
   "language": "python",
   "name": "python3"
  },
  "language_info": {
   "codemirror_mode": {
    "name": "ipython",
    "version": 3
   },
   "file_extension": ".py",
   "mimetype": "text/x-python",
   "name": "python",
   "nbconvert_exporter": "python",
   "pygments_lexer": "ipython3",
   "version": "3.6.5"
  }
 },
 "nbformat": 4,
 "nbformat_minor": 2
}
