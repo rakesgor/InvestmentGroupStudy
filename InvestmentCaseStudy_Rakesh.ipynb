{
 "cells": [
  {
   "cell_type": "markdown",
   "metadata": {},
   "source": [
    "## Group Project - Investment Case Study\n",
    "   #### Group Members:\n",
    "    -  Vinayak Bandhu\n",
    "    -  Sarathbabu Sankaran\n",
    "    -  Puneet Agarwal\n",
    "    -  Rakesh Gorai"
   ]
  },
  {
   "cell_type": "code",
   "execution_count": 1,
   "metadata": {},
   "outputs": [],
   "source": [
    "# Supress Warnings\n",
    "\n",
    "import warnings\n",
    "warnings.filterwarnings('ignore')"
   ]
  },
  {
   "cell_type": "code",
   "execution_count": 2,
   "metadata": {},
   "outputs": [],
   "source": [
    "# Import sys,Numpy,pandas,chardet packages\n",
    "\n",
    "import sys\n",
    "import numpy as np\n",
    "import pandas as pd\n",
    "import chardet"
   ]
  },
  {
   "cell_type": "code",
   "execution_count": 3,
   "metadata": {},
   "outputs": [
    {
     "name": "stdout",
     "output_type": "stream",
     "text": [
      "{'encoding': 'Windows-1254', 'confidence': 0.461086087463078, 'language': 'Turkish'}\n",
      "{'encoding': 'Windows-1254', 'confidence': 0.4186155476629225, 'language': 'Turkish'}\n"
     ]
    }
   ],
   "source": [
    "# Understanding encoding format in the text files\n",
    "\n",
    "print(chardet.detect(open('companies.txt','rb').read()))\n",
    "print(chardet.detect(open('rounds2.csv','rb').read()))"
   ]
  },
  {
   "cell_type": "code",
   "execution_count": 5,
   "metadata": {},
   "outputs": [],
   "source": [
    "# Reading data from different data files\n",
    "\n",
    "companies = pd.read_csv('companies.txt', sep='\\t', encoding='ISO-8859-1')\n",
    "rounds2 = pd.read_csv('rounds2.csv', encoding='ISO-8859-1')\n",
    "mapping = pd.read_csv('mapping.csv')"
   ]
  },
  {
   "cell_type": "code",
   "execution_count": 77,
   "metadata": {},
   "outputs": [],
   "source": [
    "#Cleaning Data in Dataframes (removing special characters)\n",
    "\n",
    "companies['permalink'] = companies.permalink.str.encode('utf-8').str.decode('ascii','ignore').str.lower()\n",
    "rounds2['company_permalink'] = rounds2.company_permalink.str.encode('utf-8').str.decode('ascii','ignore').str.lower()"
   ]
  },
  {
   "cell_type": "markdown",
   "metadata": {},
   "source": [
    "### Table 1.1 Analysis"
   ]
  },
  {
   "cell_type": "code",
   "execution_count": 102,
   "metadata": {},
   "outputs": [
    {
     "name": "stdout",
     "output_type": "stream",
     "text": [
      "66368\n",
      "66368\n"
     ]
    }
   ],
   "source": [
    "# Unique companies present in rounds2 and companies files:\n",
    "\n",
    "print(rounds2['company_permalink'].nunique())\n",
    "print(companies['permalink'].nunique())"
   ]
  },
  {
   "cell_type": "code",
   "execution_count": 103,
   "metadata": {},
   "outputs": [
    {
     "name": "stdout",
     "output_type": "stream",
     "text": [
      "permalink            0\n",
      "name                 1\n",
      "homepage_url      5058\n",
      "category_list     3148\n",
      "status               0\n",
      "country_code      6958\n",
      "state_code        8547\n",
      "region            8030\n",
      "city              8028\n",
      "founded_at       15221\n",
      "dtype: int64\n",
      "(66368, 10)\n",
      "permalink        66368\n",
      "name             66102\n",
      "homepage_url     61191\n",
      "category_list    27296\n",
      "status               4\n",
      "country_code       137\n",
      "state_code         311\n",
      "region            1092\n",
      "city              5111\n",
      "founded_at        3978\n",
      "dtype: int64\n"
     ]
    }
   ],
   "source": [
    "# Check to see which column can be used as unique key in companies dataframe\n",
    "\n",
    "## Check for non-null\n",
    "print(companies.isnull().sum())\n",
    "\n",
    "## Check for Number of rows and columns:\n",
    "print(companies.shape)\n",
    "\n",
    "## Check for Number of unique values in each columns:\n",
    "print(companies.nunique())"
   ]
  },
  {
   "cell_type": "code",
   "execution_count": 25,
   "metadata": {},
   "outputs": [
    {
     "data": {
      "text/plain": [
       "False"
      ]
     },
     "execution_count": 25,
     "metadata": {},
     "output_type": "execute_result"
    }
   ],
   "source": [
    "# Check for any company in rounds2 which is not present in companies dataframe\n",
    "~rounds2['company_permalink'].isin(companies['permalink']).all()"
   ]
  },
  {
   "cell_type": "code",
   "execution_count": 26,
   "metadata": {},
   "outputs": [],
   "source": [
    "# Create master_frame\n",
    "\n",
    "master_frame = pd.merge(rounds2.rename(columns={'company_permalink':'permalink'}), companies, how = 'outer', on = 'permalink')"
   ]
  },
  {
   "cell_type": "code",
   "execution_count": 27,
   "metadata": {},
   "outputs": [
    {
     "data": {
      "text/plain": [
       "(114949, 15)"
      ]
     },
     "execution_count": 27,
     "metadata": {},
     "output_type": "execute_result"
    }
   ],
   "source": [
    "master_frame.shape"
   ]
  },
  {
   "cell_type": "markdown",
   "metadata": {},
   "source": [
    "### Cleaning the master_frame"
   ]
  },
  {
   "cell_type": "code",
   "execution_count": 29,
   "metadata": {},
   "outputs": [
    {
     "data": {
      "text/plain": [
       "permalink                      0\n",
       "funding_round_permalink        0\n",
       "funding_round_type             0\n",
       "funding_round_code         83809\n",
       "funded_at                      0\n",
       "raised_amount_usd          19990\n",
       "name                           1\n",
       "homepage_url                6134\n",
       "category_list               3410\n",
       "status                         0\n",
       "country_code                8678\n",
       "state_code                 10946\n",
       "region                     10167\n",
       "city                       10164\n",
       "founded_at                 20521\n",
       "dtype: int64"
      ]
     },
     "execution_count": 29,
     "metadata": {},
     "output_type": "execute_result"
    }
   ],
   "source": [
    "master_frame.isnull().sum()"
   ]
  },
  {
   "cell_type": "code",
   "execution_count": 30,
   "metadata": {},
   "outputs": [
    {
     "data": {
      "text/plain": [
       "permalink                   0.00\n",
       "funding_round_permalink     0.00\n",
       "funding_round_type          0.00\n",
       "funding_round_code         72.91\n",
       "funded_at                   0.00\n",
       "raised_amount_usd          17.39\n",
       "name                        0.00\n",
       "homepage_url                5.34\n",
       "category_list               2.97\n",
       "status                      0.00\n",
       "country_code                7.55\n",
       "state_code                  9.52\n",
       "region                      8.84\n",
       "city                        8.84\n",
       "founded_at                 17.85\n",
       "dtype: float64"
      ]
     },
     "execution_count": 30,
     "metadata": {},
     "output_type": "execute_result"
    }
   ],
   "source": [
    "round(100*(master_frame.isnull().sum()/len(master_frame.index)), 2)"
   ]
  },
  {
   "cell_type": "code",
   "execution_count": 45,
   "metadata": {},
   "outputs": [
    {
     "data": {
      "text/plain": [
       "permalink                  0.00\n",
       "funding_round_permalink    0.00\n",
       "funding_round_type         0.00\n",
       "funded_at                  0.00\n",
       "raised_amount_usd          0.00\n",
       "name                       0.00\n",
       "category_list              1.77\n",
       "status                     0.00\n",
       "country_code               6.26\n",
       "region                     7.57\n",
       "city                       7.57\n",
       "dtype: float64"
      ]
     },
     "execution_count": 45,
     "metadata": {},
     "output_type": "execute_result"
    }
   ],
   "source": [
    "# Drop unnecessary columns\n",
    "\n",
    "master_frame.drop(['state_code'],axis=1,inplace=True)\n",
    "round(100*(master_frame.isnull().sum()/len(master_frame.index)), 2)"
   ]
  },
  {
   "cell_type": "code",
   "execution_count": 46,
   "metadata": {},
   "outputs": [
    {
     "data": {
      "text/plain": [
       "permalink                  0.00\n",
       "funding_round_permalink    0.00\n",
       "funding_round_type         0.00\n",
       "funded_at                  0.00\n",
       "raised_amount_usd          0.00\n",
       "name                       0.00\n",
       "category_list              1.77\n",
       "status                     0.00\n",
       "country_code               6.26\n",
       "region                     7.57\n",
       "city                       7.57\n",
       "dtype: float64"
      ]
     },
     "execution_count": 46,
     "metadata": {},
     "output_type": "execute_result"
    }
   ],
   "source": [
    "# Drop unecessary rows using columns with high Null percentages\n",
    "master_frame = master_frame[(master_frame.isnull().sum(axis=1)) <= 5]\n",
    "round(100*(master_frame.isnull().sum()/len(master_frame.index)), 2)"
   ]
  },
  {
   "cell_type": "code",
   "execution_count": 72,
   "metadata": {},
   "outputs": [
    {
     "ename": "KeyError",
     "evalue": "'raised_amount_usd'",
     "output_type": "error",
     "traceback": [
      "\u001b[1;31m---------------------------------------------------------------------------\u001b[0m",
      "\u001b[1;31mKeyError\u001b[0m                                  Traceback (most recent call last)",
      "\u001b[1;32m~\\AppData\\Local\\Continuum\\anaconda3\\lib\\site-packages\\pandas\\core\\indexes\\base.py\u001b[0m in \u001b[0;36mget_loc\u001b[1;34m(self, key, method, tolerance)\u001b[0m\n\u001b[0;32m   3062\u001b[0m             \u001b[1;32mtry\u001b[0m\u001b[1;33m:\u001b[0m\u001b[1;33m\u001b[0m\u001b[0m\n\u001b[1;32m-> 3063\u001b[1;33m                 \u001b[1;32mreturn\u001b[0m \u001b[0mself\u001b[0m\u001b[1;33m.\u001b[0m\u001b[0m_engine\u001b[0m\u001b[1;33m.\u001b[0m\u001b[0mget_loc\u001b[0m\u001b[1;33m(\u001b[0m\u001b[0mkey\u001b[0m\u001b[1;33m)\u001b[0m\u001b[1;33m\u001b[0m\u001b[0m\n\u001b[0m\u001b[0;32m   3064\u001b[0m             \u001b[1;32mexcept\u001b[0m \u001b[0mKeyError\u001b[0m\u001b[1;33m:\u001b[0m\u001b[1;33m\u001b[0m\u001b[0m\n",
      "\u001b[1;32mpandas\\_libs\\index.pyx\u001b[0m in \u001b[0;36mpandas._libs.index.IndexEngine.get_loc\u001b[1;34m()\u001b[0m\n",
      "\u001b[1;32mpandas\\_libs\\index.pyx\u001b[0m in \u001b[0;36mpandas._libs.index.IndexEngine.get_loc\u001b[1;34m()\u001b[0m\n",
      "\u001b[1;32mpandas\\_libs\\hashtable_class_helper.pxi\u001b[0m in \u001b[0;36mpandas._libs.hashtable.PyObjectHashTable.get_item\u001b[1;34m()\u001b[0m\n",
      "\u001b[1;32mpandas\\_libs\\hashtable_class_helper.pxi\u001b[0m in \u001b[0;36mpandas._libs.hashtable.PyObjectHashTable.get_item\u001b[1;34m()\u001b[0m\n",
      "\u001b[1;31mKeyError\u001b[0m: 'raised_amount_usd'",
      "\nDuring handling of the above exception, another exception occurred:\n",
      "\u001b[1;31mKeyError\u001b[0m                                  Traceback (most recent call last)",
      "\u001b[1;32m<ipython-input-72-bd988a5764c8>\u001b[0m in \u001b[0;36m<module>\u001b[1;34m()\u001b[0m\n\u001b[0;32m      1\u001b[0m \u001b[1;31m# Clean NAN values\u001b[0m\u001b[1;33m\u001b[0m\u001b[1;33m\u001b[0m\u001b[0m\n\u001b[0;32m      2\u001b[0m \u001b[1;33m\u001b[0m\u001b[0m\n\u001b[1;32m----> 3\u001b[1;33m \u001b[0mmaster_frame\u001b[0m\u001b[1;33m[\u001b[0m\u001b[1;34m'raised_amount_usd'\u001b[0m\u001b[1;33m]\u001b[0m\u001b[1;33m.\u001b[0m\u001b[0mfillna\u001b[0m\u001b[1;33m(\u001b[0m\u001b[0mvalue\u001b[0m\u001b[1;33m=\u001b[0m\u001b[1;36m0\u001b[0m\u001b[1;33m,\u001b[0m\u001b[0minplace\u001b[0m\u001b[1;33m=\u001b[0m\u001b[1;32mTrue\u001b[0m\u001b[1;33m)\u001b[0m\u001b[1;33m\u001b[0m\u001b[0m\n\u001b[0m\u001b[0;32m      4\u001b[0m \u001b[1;33m\u001b[0m\u001b[0m\n\u001b[0;32m      5\u001b[0m \u001b[1;31m# Convert raised_amount_usd to mil.\u001b[0m\u001b[1;33m\u001b[0m\u001b[1;33m\u001b[0m\u001b[0m\n",
      "\u001b[1;32m~\\AppData\\Local\\Continuum\\anaconda3\\lib\\site-packages\\pandas\\core\\frame.py\u001b[0m in \u001b[0;36m__getitem__\u001b[1;34m(self, key)\u001b[0m\n\u001b[0;32m   2683\u001b[0m             \u001b[1;32mreturn\u001b[0m \u001b[0mself\u001b[0m\u001b[1;33m.\u001b[0m\u001b[0m_getitem_multilevel\u001b[0m\u001b[1;33m(\u001b[0m\u001b[0mkey\u001b[0m\u001b[1;33m)\u001b[0m\u001b[1;33m\u001b[0m\u001b[0m\n\u001b[0;32m   2684\u001b[0m         \u001b[1;32melse\u001b[0m\u001b[1;33m:\u001b[0m\u001b[1;33m\u001b[0m\u001b[0m\n\u001b[1;32m-> 2685\u001b[1;33m             \u001b[1;32mreturn\u001b[0m \u001b[0mself\u001b[0m\u001b[1;33m.\u001b[0m\u001b[0m_getitem_column\u001b[0m\u001b[1;33m(\u001b[0m\u001b[0mkey\u001b[0m\u001b[1;33m)\u001b[0m\u001b[1;33m\u001b[0m\u001b[0m\n\u001b[0m\u001b[0;32m   2686\u001b[0m \u001b[1;33m\u001b[0m\u001b[0m\n\u001b[0;32m   2687\u001b[0m     \u001b[1;32mdef\u001b[0m \u001b[0m_getitem_column\u001b[0m\u001b[1;33m(\u001b[0m\u001b[0mself\u001b[0m\u001b[1;33m,\u001b[0m \u001b[0mkey\u001b[0m\u001b[1;33m)\u001b[0m\u001b[1;33m:\u001b[0m\u001b[1;33m\u001b[0m\u001b[0m\n",
      "\u001b[1;32m~\\AppData\\Local\\Continuum\\anaconda3\\lib\\site-packages\\pandas\\core\\frame.py\u001b[0m in \u001b[0;36m_getitem_column\u001b[1;34m(self, key)\u001b[0m\n\u001b[0;32m   2690\u001b[0m         \u001b[1;31m# get column\u001b[0m\u001b[1;33m\u001b[0m\u001b[1;33m\u001b[0m\u001b[0m\n\u001b[0;32m   2691\u001b[0m         \u001b[1;32mif\u001b[0m \u001b[0mself\u001b[0m\u001b[1;33m.\u001b[0m\u001b[0mcolumns\u001b[0m\u001b[1;33m.\u001b[0m\u001b[0mis_unique\u001b[0m\u001b[1;33m:\u001b[0m\u001b[1;33m\u001b[0m\u001b[0m\n\u001b[1;32m-> 2692\u001b[1;33m             \u001b[1;32mreturn\u001b[0m \u001b[0mself\u001b[0m\u001b[1;33m.\u001b[0m\u001b[0m_get_item_cache\u001b[0m\u001b[1;33m(\u001b[0m\u001b[0mkey\u001b[0m\u001b[1;33m)\u001b[0m\u001b[1;33m\u001b[0m\u001b[0m\n\u001b[0m\u001b[0;32m   2693\u001b[0m \u001b[1;33m\u001b[0m\u001b[0m\n\u001b[0;32m   2694\u001b[0m         \u001b[1;31m# duplicate columns & possible reduce dimensionality\u001b[0m\u001b[1;33m\u001b[0m\u001b[1;33m\u001b[0m\u001b[0m\n",
      "\u001b[1;32m~\\AppData\\Local\\Continuum\\anaconda3\\lib\\site-packages\\pandas\\core\\generic.py\u001b[0m in \u001b[0;36m_get_item_cache\u001b[1;34m(self, item)\u001b[0m\n\u001b[0;32m   2484\u001b[0m         \u001b[0mres\u001b[0m \u001b[1;33m=\u001b[0m \u001b[0mcache\u001b[0m\u001b[1;33m.\u001b[0m\u001b[0mget\u001b[0m\u001b[1;33m(\u001b[0m\u001b[0mitem\u001b[0m\u001b[1;33m)\u001b[0m\u001b[1;33m\u001b[0m\u001b[0m\n\u001b[0;32m   2485\u001b[0m         \u001b[1;32mif\u001b[0m \u001b[0mres\u001b[0m \u001b[1;32mis\u001b[0m \u001b[1;32mNone\u001b[0m\u001b[1;33m:\u001b[0m\u001b[1;33m\u001b[0m\u001b[0m\n\u001b[1;32m-> 2486\u001b[1;33m             \u001b[0mvalues\u001b[0m \u001b[1;33m=\u001b[0m \u001b[0mself\u001b[0m\u001b[1;33m.\u001b[0m\u001b[0m_data\u001b[0m\u001b[1;33m.\u001b[0m\u001b[0mget\u001b[0m\u001b[1;33m(\u001b[0m\u001b[0mitem\u001b[0m\u001b[1;33m)\u001b[0m\u001b[1;33m\u001b[0m\u001b[0m\n\u001b[0m\u001b[0;32m   2487\u001b[0m             \u001b[0mres\u001b[0m \u001b[1;33m=\u001b[0m \u001b[0mself\u001b[0m\u001b[1;33m.\u001b[0m\u001b[0m_box_item_values\u001b[0m\u001b[1;33m(\u001b[0m\u001b[0mitem\u001b[0m\u001b[1;33m,\u001b[0m \u001b[0mvalues\u001b[0m\u001b[1;33m)\u001b[0m\u001b[1;33m\u001b[0m\u001b[0m\n\u001b[0;32m   2488\u001b[0m             \u001b[0mcache\u001b[0m\u001b[1;33m[\u001b[0m\u001b[0mitem\u001b[0m\u001b[1;33m]\u001b[0m \u001b[1;33m=\u001b[0m \u001b[0mres\u001b[0m\u001b[1;33m\u001b[0m\u001b[0m\n",
      "\u001b[1;32m~\\AppData\\Local\\Continuum\\anaconda3\\lib\\site-packages\\pandas\\core\\internals.py\u001b[0m in \u001b[0;36mget\u001b[1;34m(self, item, fastpath)\u001b[0m\n\u001b[0;32m   4113\u001b[0m \u001b[1;33m\u001b[0m\u001b[0m\n\u001b[0;32m   4114\u001b[0m             \u001b[1;32mif\u001b[0m \u001b[1;32mnot\u001b[0m \u001b[0misna\u001b[0m\u001b[1;33m(\u001b[0m\u001b[0mitem\u001b[0m\u001b[1;33m)\u001b[0m\u001b[1;33m:\u001b[0m\u001b[1;33m\u001b[0m\u001b[0m\n\u001b[1;32m-> 4115\u001b[1;33m                 \u001b[0mloc\u001b[0m \u001b[1;33m=\u001b[0m \u001b[0mself\u001b[0m\u001b[1;33m.\u001b[0m\u001b[0mitems\u001b[0m\u001b[1;33m.\u001b[0m\u001b[0mget_loc\u001b[0m\u001b[1;33m(\u001b[0m\u001b[0mitem\u001b[0m\u001b[1;33m)\u001b[0m\u001b[1;33m\u001b[0m\u001b[0m\n\u001b[0m\u001b[0;32m   4116\u001b[0m             \u001b[1;32melse\u001b[0m\u001b[1;33m:\u001b[0m\u001b[1;33m\u001b[0m\u001b[0m\n\u001b[0;32m   4117\u001b[0m                 \u001b[0mindexer\u001b[0m \u001b[1;33m=\u001b[0m \u001b[0mnp\u001b[0m\u001b[1;33m.\u001b[0m\u001b[0marange\u001b[0m\u001b[1;33m(\u001b[0m\u001b[0mlen\u001b[0m\u001b[1;33m(\u001b[0m\u001b[0mself\u001b[0m\u001b[1;33m.\u001b[0m\u001b[0mitems\u001b[0m\u001b[1;33m)\u001b[0m\u001b[1;33m)\u001b[0m\u001b[1;33m[\u001b[0m\u001b[0misna\u001b[0m\u001b[1;33m(\u001b[0m\u001b[0mself\u001b[0m\u001b[1;33m.\u001b[0m\u001b[0mitems\u001b[0m\u001b[1;33m)\u001b[0m\u001b[1;33m]\u001b[0m\u001b[1;33m\u001b[0m\u001b[0m\n",
      "\u001b[1;32m~\\AppData\\Local\\Continuum\\anaconda3\\lib\\site-packages\\pandas\\core\\indexes\\base.py\u001b[0m in \u001b[0;36mget_loc\u001b[1;34m(self, key, method, tolerance)\u001b[0m\n\u001b[0;32m   3063\u001b[0m                 \u001b[1;32mreturn\u001b[0m \u001b[0mself\u001b[0m\u001b[1;33m.\u001b[0m\u001b[0m_engine\u001b[0m\u001b[1;33m.\u001b[0m\u001b[0mget_loc\u001b[0m\u001b[1;33m(\u001b[0m\u001b[0mkey\u001b[0m\u001b[1;33m)\u001b[0m\u001b[1;33m\u001b[0m\u001b[0m\n\u001b[0;32m   3064\u001b[0m             \u001b[1;32mexcept\u001b[0m \u001b[0mKeyError\u001b[0m\u001b[1;33m:\u001b[0m\u001b[1;33m\u001b[0m\u001b[0m\n\u001b[1;32m-> 3065\u001b[1;33m                 \u001b[1;32mreturn\u001b[0m \u001b[0mself\u001b[0m\u001b[1;33m.\u001b[0m\u001b[0m_engine\u001b[0m\u001b[1;33m.\u001b[0m\u001b[0mget_loc\u001b[0m\u001b[1;33m(\u001b[0m\u001b[0mself\u001b[0m\u001b[1;33m.\u001b[0m\u001b[0m_maybe_cast_indexer\u001b[0m\u001b[1;33m(\u001b[0m\u001b[0mkey\u001b[0m\u001b[1;33m)\u001b[0m\u001b[1;33m)\u001b[0m\u001b[1;33m\u001b[0m\u001b[0m\n\u001b[0m\u001b[0;32m   3066\u001b[0m \u001b[1;33m\u001b[0m\u001b[0m\n\u001b[0;32m   3067\u001b[0m         \u001b[0mindexer\u001b[0m \u001b[1;33m=\u001b[0m \u001b[0mself\u001b[0m\u001b[1;33m.\u001b[0m\u001b[0mget_indexer\u001b[0m\u001b[1;33m(\u001b[0m\u001b[1;33m[\u001b[0m\u001b[0mkey\u001b[0m\u001b[1;33m]\u001b[0m\u001b[1;33m,\u001b[0m \u001b[0mmethod\u001b[0m\u001b[1;33m=\u001b[0m\u001b[0mmethod\u001b[0m\u001b[1;33m,\u001b[0m \u001b[0mtolerance\u001b[0m\u001b[1;33m=\u001b[0m\u001b[0mtolerance\u001b[0m\u001b[1;33m)\u001b[0m\u001b[1;33m\u001b[0m\u001b[0m\n",
      "\u001b[1;32mpandas\\_libs\\index.pyx\u001b[0m in \u001b[0;36mpandas._libs.index.IndexEngine.get_loc\u001b[1;34m()\u001b[0m\n",
      "\u001b[1;32mpandas\\_libs\\index.pyx\u001b[0m in \u001b[0;36mpandas._libs.index.IndexEngine.get_loc\u001b[1;34m()\u001b[0m\n",
      "\u001b[1;32mpandas\\_libs\\hashtable_class_helper.pxi\u001b[0m in \u001b[0;36mpandas._libs.hashtable.PyObjectHashTable.get_item\u001b[1;34m()\u001b[0m\n",
      "\u001b[1;32mpandas\\_libs\\hashtable_class_helper.pxi\u001b[0m in \u001b[0;36mpandas._libs.hashtable.PyObjectHashTable.get_item\u001b[1;34m()\u001b[0m\n",
      "\u001b[1;31mKeyError\u001b[0m: 'raised_amount_usd'"
     ]
    }
   ],
   "source": [
    "# Clean NAN values\n",
    "\n",
    "master_frame['raised_amount_usd'].fillna(value=0,inplace=True)\n",
    "\n",
    "# Convert raised_amount_usd to mil.\n",
    "\n",
    "master_frame['raised_amount_usd']=round(master_frame[['raised_amount_usd']].apply(lambda x:x/1000000),2)\n",
    "round(100*(master_frame.isnull().sum()/len(master_frame.index)), 2)"
   ]
  },
  {
   "cell_type": "markdown",
   "metadata": {},
   "source": [
    "### Table 2.1 Analysis"
   ]
  },
  {
   "cell_type": "code",
   "execution_count": 55,
   "metadata": {},
   "outputs": [
    {
     "name": "stdout",
     "output_type": "stream",
     "text": [
      "raised_amount_usd    10.694886\n",
      "dtype: float64\n"
     ]
    }
   ],
   "source": [
    "# Average funding amount in venture type\n",
    "\n",
    "round(master_frame.loc[master_frame['funding_round_type']=='venture'].mean(),2)"
   ]
  },
  {
   "cell_type": "code",
   "execution_count": 60,
   "metadata": {},
   "outputs": [
    {
     "data": {
      "text/plain": [
       "raised_amount_usd    0.77\n",
       "dtype: float64"
      ]
     },
     "execution_count": 60,
     "metadata": {},
     "output_type": "execute_result"
    }
   ],
   "source": [
    "# Average funding amount in angel type\n",
    "\n",
    "round(master_frame.loc[master_frame['funding_round_type']=='angel'].mean(),2)"
   ]
  },
  {
   "cell_type": "code",
   "execution_count": 58,
   "metadata": {},
   "outputs": [
    {
     "name": "stdout",
     "output_type": "stream",
     "text": [
      "raised_amount_usd    0.568031\n",
      "dtype: float64\n"
     ]
    }
   ],
   "source": [
    "# Average funding amount in seed type\n",
    "\n",
    "round(master_frame.loc[master_frame['funding_round_type']=='seed'].mean(),2)"
   ]
  },
  {
   "cell_type": "code",
   "execution_count": 62,
   "metadata": {},
   "outputs": [
    {
     "data": {
      "text/plain": [
       "raised_amount_usd    63.3\n",
       "dtype: float64"
      ]
     },
     "execution_count": 62,
     "metadata": {},
     "output_type": "execute_result"
    }
   ],
   "source": [
    "# Average funding amount in private_equity type\n",
    "\n",
    "round(master_frame.loc[master_frame['funding_round_type']=='private_equity'].mean(),2)"
   ]
  },
  {
   "cell_type": "code",
   "execution_count": 64,
   "metadata": {},
   "outputs": [
    {
     "name": "stdout",
     "output_type": "stream",
     "text": [
      "                                                permalink  \\\n",
      "0                                     /organization/-fame   \n",
      "1                                  /organization/-qounter   \n",
      "2                                  /organization/-qounter   \n",
      "3                     /organization/-the-one-of-them-inc-   \n",
      "4                                   /organization/0-6-com   \n",
      "5                          /organization/004-technologies   \n",
      "6                        /organization/01games-technology   \n",
      "7                     /organization/0ndine-biomedical-inc   \n",
      "8                     /organization/0ndine-biomedical-inc   \n",
      "9                                    /organization/0xdata   \n",
      "10                                   /organization/0xdata   \n",
      "11                                   /organization/0xdata   \n",
      "12                                   /organization/0xdata   \n",
      "13                                        /organization/1   \n",
      "14                                        /organization/1   \n",
      "15                                        /organization/1   \n",
      "16                              /organization/1-2-3-listo   \n",
      "17                                  /organization/1-4-all   \n",
      "18                         /organization/1-618-technology   \n",
      "19                            /organization/1-800-dentist   \n",
      "20                            /organization/1-800-doctors   \n",
      "21               /organization/1-800-publicrelations-inc-   \n",
      "22                             /organization/1-mainstream   \n",
      "23                                  /organization/1-of-99   \n",
      "24                              /organization/10-20-media   \n",
      "25                              /organization/10-20-media   \n",
      "26                              /organization/10-20-media   \n",
      "27                              /organization/10-20-media   \n",
      "28                          /organization/10-minutes-with   \n",
      "29                          /organization/10-minutes-with   \n",
      "...                                                   ...   \n",
      "114918                              /organization/zynstra   \n",
      "114919                              /organization/zynstra   \n",
      "114920                           /organization/zyomyx-inc   \n",
      "114921                           /organization/zyomyx-inc   \n",
      "114922                           /organization/zyomyx-inc   \n",
      "114923                           /organization/zyomyx-inc   \n",
      "114924                                 /organization/zype   \n",
      "114925                                 /organization/zype   \n",
      "114926                               /organization/zypsee   \n",
      "114927                               /organization/zypsee   \n",
      "114928                     /organization/zyraz-technology   \n",
      "114929                     /organization/zyraz-technology   \n",
      "114930                     /organization/zyraz-technology   \n",
      "114931                     /organization/zyraz-technology   \n",
      "114932                                /organization/zyrra   \n",
      "114933                                /organization/zyrra   \n",
      "114934                                /organization/zyrra   \n",
      "114935                                /organization/zyrra   \n",
      "114936                               /organization/zystor   \n",
      "114937                           /organization/zytoprotec   \n",
      "114938                                /organization/zzish   \n",
      "114939                                /organization/zzish   \n",
      "114940                                /organization/zzish   \n",
      "114941  /organization/zznode-science-and-technology-co...   \n",
      "114942                          /organization/zzzzapp-com   \n",
      "114943                          /organization/zzzzapp-com   \n",
      "114944                          /organization/zzzzapp-com   \n",
      "114945                          /organization/zzzzapp-com   \n",
      "114947                               /organization/asys-2   \n",
      "114948  /organization/novatiff-reklam-ve-tantm-hizmetl...   \n",
      "\n",
      "                                funding_round_permalink   funding_round_type  \\\n",
      "0       /funding-round/9a01d05418af9f794eebff7ace91f638              venture   \n",
      "1       /funding-round/22dacff496eb7acb2b901dec1dfe5633              venture   \n",
      "2       /funding-round/b44fbb94153f6cdef13083530bb48030                 seed   \n",
      "3       /funding-round/650b8f704416801069bb178a1418776b              venture   \n",
      "4       /funding-round/5727accaeaa57461bd22a9bdd945382d              venture   \n",
      "5       /funding-round/1278dd4e6a37fa4b7d7e06c21b3c1830              venture   \n",
      "6       /funding-round/7d53696f2b4f607a2f2a8cbb83d01839          undisclosed   \n",
      "7       /funding-round/2b9d3ac293d5cdccbecff5c8cb0f327d                 seed   \n",
      "8       /funding-round/954b9499724b946ad8c396a57a5f3b72              venture   \n",
      "9       /funding-round/383a9bd2c04f7038bb543ccef5ba3eae                 seed   \n",
      "10      /funding-round/3bb2ee4a2d89251a10aaa735b1180e44              venture   \n",
      "11      /funding-round/ae2a174c06517c2394aed45006322a7e              venture   \n",
      "12      /funding-round/e1cfcbe1bdf4c70277c5f29a3482f24e              venture   \n",
      "13      /funding-round/03b975068632eba5bfdb937ec8c07a68                 seed   \n",
      "14      /funding-round/5de6d8828aef7d925d97918d15727670          undisclosed   \n",
      "15      /funding-round/e82464f22241715dd1a6c77241055ed1                 seed   \n",
      "16      /funding-round/6de4609e894495105bc791ed64361288                 seed   \n",
      "17      /funding-round/e97a192e13ea0ee3c4f71136b4f3ec16  equity_crowdfunding   \n",
      "18      /funding-round/83b8f4c7d37ecef5e001a5e953bf461a  equity_crowdfunding   \n",
      "19      /funding-round/5274aacc211163fc7c86539ce94bbacc          undisclosed   \n",
      "20      /funding-round/9eb8c7790a0c200d79e75785d1c4aa12     convertible_note   \n",
      "21      /funding-round/11c228f58831bc7ed337ef69ecc560c2       private_equity   \n",
      "22      /funding-round/b952cbaf401f310927430c97b68162ea              venture   \n",
      "23      /funding-round/b5c811f561cfb5701cd5b1762120bbc3     convertible_note   \n",
      "24      /funding-round/436874dc54b54460f99f44c06e50990a       debt_financing   \n",
      "25      /funding-round/8025ee9c11a586eac4a234ddec7beb30       debt_financing   \n",
      "26      /funding-round/a884bf8326b9fd59789c0f74a28dbc3b       debt_financing   \n",
      "27      /funding-round/d205f5416ce55e126beda3ed2bf2c2cd       debt_financing   \n",
      "28      /funding-round/0faccbbcc5818dc5326469f13f5a8ac8              venture   \n",
      "29      /funding-round/f245a74b4c54610ae843e17bdf4d1113                 seed   \n",
      "...                                                 ...                  ...   \n",
      "114918  /funding-round/6c01f0a76c1341118d63b670ac841bd9                 seed   \n",
      "114919  /funding-round/dee233b3434185c14b3352034f72d798                angel   \n",
      "114920  /funding-round/4191cb5258d3863b0212d1083881da64              venture   \n",
      "114921  /funding-round/85443f5438bfd50104b9591eabc95c94                grant   \n",
      "114922  /funding-round/b4fce7f8a13267353d57db09099800e8              venture   \n",
      "114923  /funding-round/ea5b21da6cf999ff4d5667431fe318d7              venture   \n",
      "114924  /funding-round/24e8134882bf6c4dcc385abba0acd5d9                 seed   \n",
      "114925  /funding-round/c9f5097b3617c7539aa47c8b448163be                 seed   \n",
      "114926  /funding-round/472c6f7940522552fcca465b8cd3deef                 seed   \n",
      "114927  /funding-round/c67e22c5448435adaf5a2d101e449dde                 seed   \n",
      "114928  /funding-round/3c3ae0f177e01a04deea811e1828be35       private_equity   \n",
      "114929  /funding-round/55f33b179dd6f4516315348c1e8350c6                angel   \n",
      "114930  /funding-round/c05aab2155e390066d51c6852ff61464                grant   \n",
      "114931  /funding-round/e949f077c943db197f20e43c2eb8d0e6              venture   \n",
      "114932  /funding-round/2a13fa52848ace2760b224a350a76b40                 seed   \n",
      "114933  /funding-round/39baf35e59eb3efc5409cd4c5eaa50e1                 seed   \n",
      "114934  /funding-round/7a0fa791c96c9c447ee54662395beab9              venture   \n",
      "114935  /funding-round/cc8cd96a500332d5b4f4bcbddb306099                angel   \n",
      "114936  /funding-round/7ea37c0ff4132b084832039a9380d34e              venture   \n",
      "114937  /funding-round/0c43e717298296d2fb334fb236300f6e              venture   \n",
      "114938  /funding-round/34b560f672bebeb339a5efa3b27eae5d                grant   \n",
      "114939  /funding-round/4c82e18a8e3eab2647719d0fc27ead5f                angel   \n",
      "114940  /funding-round/73721fffc980d228f051e87422aa8732                 seed   \n",
      "114941  /funding-round/171693e1e07e0230defd8fddb6de4515              venture   \n",
      "114942  /funding-round/22ef2fafb4d20ac3aa4b86143dbf6c8e                 seed   \n",
      "114943  /funding-round/6ba41360588bc6e3f77e9b50a0ebfafa                 seed   \n",
      "114944  /funding-round/8f6d25b8ee4199e586484d817bceda05     convertible_note   \n",
      "114945  /funding-round/ff1aa06ed5da186c84f101549035d4ae                 seed   \n",
      "114947  /funding-round/35f09d0794651719b02bbfd859ba9ff5                 seed   \n",
      "114948  /funding-round/af942869878d2cd788ef5189b435ebc4                grant   \n",
      "\n",
      "         funded_at  raised_amount_usd  \\\n",
      "0       05-01-2015                0.0   \n",
      "1       14-10-2014                0.0   \n",
      "2       01-03-2014                0.0   \n",
      "3       30-01-2014                0.0   \n",
      "4       19-03-2008                0.0   \n",
      "5       24-07-2014                0.0   \n",
      "6       01-07-2014                0.0   \n",
      "7       11-09-2009                0.0   \n",
      "8       21-12-2009                0.0   \n",
      "9       22-05-2013                0.0   \n",
      "10      09-11-2015                0.0   \n",
      "11      03-01-2013                0.0   \n",
      "12      19-07-2014                0.0   \n",
      "13      05-02-2014                0.0   \n",
      "14      05-02-2013                0.0   \n",
      "15      20-07-2011                0.0   \n",
      "16      18-02-2013                0.0   \n",
      "17      21-04-2013                0.0   \n",
      "18      22-01-2014                0.0   \n",
      "19      19-08-2010                0.0   \n",
      "20      02-03-2011                0.0   \n",
      "21      01-02-2015                0.0   \n",
      "22      17-03-2015                0.0   \n",
      "23      13-12-2014                0.0   \n",
      "24      11-01-2011                0.0   \n",
      "25      18-06-2009                0.0   \n",
      "26      28-12-2011                0.0   \n",
      "27      30-03-2010                0.0   \n",
      "28      09-10-2014                0.0   \n",
      "29      01-01-2013                0.0   \n",
      "...            ...                ...   \n",
      "114918  03-03-2012                0.0   \n",
      "114919  18-09-2012                0.0   \n",
      "114920  30-06-2013                0.0   \n",
      "114921  26-03-2014                0.0   \n",
      "114922  11-07-2013                0.0   \n",
      "114923  29-01-2010                0.0   \n",
      "114924  01-04-2015                0.0   \n",
      "114925  27-10-2015                0.0   \n",
      "114926  25-09-2013                0.0   \n",
      "114927  26-07-2013                0.0   \n",
      "114928  15-02-2013                0.0   \n",
      "114929  01-01-2008                0.0   \n",
      "114930  11-09-2009                0.0   \n",
      "114931  09-10-2009                0.0   \n",
      "114932  15-11-2010                0.0   \n",
      "114933  21-10-2010                0.0   \n",
      "114934  18-10-2012                0.0   \n",
      "114935  15-12-2010                0.0   \n",
      "114936  16-12-2004                0.0   \n",
      "114937  29-01-2013                0.0   \n",
      "114938  25-02-2015                0.0   \n",
      "114939  31-10-2014                0.0   \n",
      "114940  24-03-2014                0.0   \n",
      "114941  01-04-2012                0.0   \n",
      "114942  01-11-2011                0.0   \n",
      "114943  01-08-2013                0.0   \n",
      "114944  01-03-2014                0.0   \n",
      "114945  01-05-2013                0.0   \n",
      "114947  01-01-2015                0.0   \n",
      "114948  01-10-2013                0.0   \n",
      "\n",
      "                                                 name  \\\n",
      "0                                               #fame   \n",
      "1                                            :Qounter   \n",
      "2                                            :Qounter   \n",
      "3                              (THE) ONE of THEM,Inc.   \n",
      "4                                             0-6.com   \n",
      "5                                    004 Technologies   \n",
      "6                                  01Games Technology   \n",
      "7                              Ondine Biomedical Inc.   \n",
      "8                              Ondine Biomedical Inc.   \n",
      "9                                              H2O.ai   \n",
      "10                                             H2O.ai   \n",
      "11                                             H2O.ai   \n",
      "12                                             H2O.ai   \n",
      "13                                           One Inc.   \n",
      "14                                           One Inc.   \n",
      "15                                           One Inc.   \n",
      "16                                        1,2,3 Listo   \n",
      "17                                            1-4 All   \n",
      "18                                   1.618 Technology   \n",
      "19                                      1-800-DENTIST   \n",
      "20                                      1-800-DOCTORS   \n",
      "21                        1-800-PublicRelations, Inc.   \n",
      "22                                       1 Mainstream   \n",
      "23                                            1 of 99   \n",
      "24                                        10-20 Media   \n",
      "25                                        10-20 Media   \n",
      "26                                        10-20 Media   \n",
      "27                                        10-20 Media   \n",
      "28                                    10 Minutes With   \n",
      "29                                    10 Minutes With   \n",
      "...                                               ...   \n",
      "114918                                        Zynstra   \n",
      "114919                                        Zynstra   \n",
      "114920                                         ZYOMYX   \n",
      "114921                                         ZYOMYX   \n",
      "114922                                         ZYOMYX   \n",
      "114923                                         ZYOMYX   \n",
      "114924                                           Zype   \n",
      "114925                                           Zype   \n",
      "114926                        Whisk (formerly Zypsee)   \n",
      "114927                        Whisk (formerly Zypsee)   \n",
      "114928                               Zyraz Technology   \n",
      "114929                               Zyraz Technology   \n",
      "114930                               Zyraz Technology   \n",
      "114931                               Zyraz Technology   \n",
      "114932                                          Zyrra   \n",
      "114933                                          Zyrra   \n",
      "114934                                          Zyrra   \n",
      "114935                                          Zyrra   \n",
      "114936                                         Zystor   \n",
      "114937                                     Zytoprotec   \n",
      "114938                                          Zzish   \n",
      "114939                                          Zzish   \n",
      "114940                                          Zzish   \n",
      "114941                  ZZNode Science and Technology   \n",
      "114942                          Zzzzapp Wireless ltd.   \n",
      "114943                          Zzzzapp Wireless ltd.   \n",
      "114944                          Zzzzapp Wireless ltd.   \n",
      "114945                          Zzzzapp Wireless ltd.   \n",
      "114947                                         Ãasys   \n",
      "114948  Ä°novatiff Reklam ve TanÄ±tÄ±m Hizmetleri Tic   \n",
      "\n",
      "                                            category_list     status  \\\n",
      "0                                                   Media  operating   \n",
      "1       Application Platforms|Real Time|Social Network...  operating   \n",
      "2       Application Platforms|Real Time|Social Network...  operating   \n",
      "3                                       Apps|Games|Mobile  operating   \n",
      "4                                             Curated Web  operating   \n",
      "5                                                Software  operating   \n",
      "6                                                   Games  operating   \n",
      "7                                           Biotechnology  operating   \n",
      "8                                           Biotechnology  operating   \n",
      "9                                               Analytics  operating   \n",
      "10                                              Analytics  operating   \n",
      "11                                              Analytics  operating   \n",
      "12                                              Analytics  operating   \n",
      "13                                                 Mobile  operating   \n",
      "14                                                 Mobile  operating   \n",
      "15                                                 Mobile  operating   \n",
      "16                                             E-Commerce  operating   \n",
      "17                           Entertainment|Games|Software  operating   \n",
      "18                     Networking|Real Estate|Web Hosting  operating   \n",
      "19                                    Health and Wellness  operating   \n",
      "20                                    Health and Wellness  operating   \n",
      "21              Internet Marketing|Media|Public Relations  operating   \n",
      "22                       Apps|Cable|Distribution|Software   acquired   \n",
      "23                                    Entertainment|Games  operating   \n",
      "24                                             E-Commerce  operating   \n",
      "25                                             E-Commerce  operating   \n",
      "26                                             E-Commerce  operating   \n",
      "27                                             E-Commerce  operating   \n",
      "28                                              Education  operating   \n",
      "29                                              Education  operating   \n",
      "...                                                   ...        ...   \n",
      "114918                                           Software  operating   \n",
      "114919                                           Software  operating   \n",
      "114920                                      Biotechnology  operating   \n",
      "114921                                      Biotechnology  operating   \n",
      "114922                                      Biotechnology  operating   \n",
      "114923                                      Biotechnology  operating   \n",
      "114924  Cloud Computing|Mobile Advertising|Video|Video...  operating   \n",
      "114925  Cloud Computing|Mobile Advertising|Video|Video...  operating   \n",
      "114926                              Public Transportation  operating   \n",
      "114927                              Public Transportation  operating   \n",
      "114928                                      Biotechnology     closed   \n",
      "114929                                      Biotechnology     closed   \n",
      "114930                                      Biotechnology     closed   \n",
      "114931                                      Biotechnology     closed   \n",
      "114932                                         E-Commerce  operating   \n",
      "114933                                         E-Commerce  operating   \n",
      "114934                                         E-Commerce  operating   \n",
      "114935                                         E-Commerce  operating   \n",
      "114936                                      Biotechnology   acquired   \n",
      "114937                                      Biotechnology  operating   \n",
      "114938  Analytics|Android|Developer APIs|Education|Gam...  operating   \n",
      "114939  Analytics|Android|Developer APIs|Education|Gam...  operating   \n",
      "114940  Analytics|Android|Developer APIs|Education|Gam...  operating   \n",
      "114941                                Enterprise Software  operating   \n",
      "114942        Advertising|Mobile|Web Development|Wireless  operating   \n",
      "114943        Advertising|Mobile|Web Development|Wireless  operating   \n",
      "114944        Advertising|Mobile|Web Development|Wireless  operating   \n",
      "114945        Advertising|Mobile|Web Development|Wireless  operating   \n",
      "114947  Consumer Electronics|Internet of Things|Teleco...  operating   \n",
      "114948                 Consumer Goods|E-Commerce|Internet  operating   \n",
      "\n",
      "       country_code                 region                   city  \n",
      "0               IND                 Mumbai                 Mumbai  \n",
      "1               USA             DE - Other          Delaware City  \n",
      "2               USA             DE - Other          Delaware City  \n",
      "3               NaN                    NaN                    NaN  \n",
      "4               CHN                Beijing                Beijing  \n",
      "5               USA  Springfield, Illinois              Champaign  \n",
      "6               HKG              Hong Kong              Hong Kong  \n",
      "7               CAN              Vancouver              Vancouver  \n",
      "8               CAN              Vancouver              Vancouver  \n",
      "9               USA            SF Bay Area          Mountain View  \n",
      "10              USA            SF Bay Area          Mountain View  \n",
      "11              USA            SF Bay Area          Mountain View  \n",
      "12              USA            SF Bay Area          Mountain View  \n",
      "13              USA            SF Bay Area          San Francisco  \n",
      "14              USA            SF Bay Area          San Francisco  \n",
      "15              USA            SF Bay Area          San Francisco  \n",
      "16              CHL               Santiago             Las Condes  \n",
      "17              USA             NC - Other      Connellys Springs  \n",
      "18              USA                Orlando                Orlando  \n",
      "19              USA            Los Angeles            Los Angeles  \n",
      "20              USA                 Newark                 Iselin  \n",
      "21              USA          New York City               New York  \n",
      "22              USA            SF Bay Area              Cupertino  \n",
      "23              USA            SF Bay Area          Mountain View  \n",
      "24              USA              Baltimore               Woodbine  \n",
      "25              USA              Baltimore               Woodbine  \n",
      "26              USA              Baltimore               Woodbine  \n",
      "27              USA              Baltimore               Woodbine  \n",
      "28              GBR                 London                 London  \n",
      "29              GBR                 London                 London  \n",
      "...             ...                    ...                    ...  \n",
      "114918          GBR                   Bath                   Bath  \n",
      "114919          GBR                   Bath                   Bath  \n",
      "114920          USA             MO - Other                Fremont  \n",
      "114921          USA             MO - Other                Fremont  \n",
      "114922          USA             MO - Other                Fremont  \n",
      "114923          USA             MO - Other                Fremont  \n",
      "114924          USA          New York City               New York  \n",
      "114925          USA          New York City               New York  \n",
      "114926          USA          New York City               New York  \n",
      "114927          USA          New York City               New York  \n",
      "114928          MYS            MYS - Other  Damansara New Village  \n",
      "114929          MYS            MYS - Other  Damansara New Village  \n",
      "114930          MYS            MYS - Other  Damansara New Village  \n",
      "114931          MYS            MYS - Other  Damansara New Village  \n",
      "114932          USA                 Boston              Cambridge  \n",
      "114933          USA                 Boston              Cambridge  \n",
      "114934          USA                 Boston              Cambridge  \n",
      "114935          USA                 Boston              Cambridge  \n",
      "114936          USA              Milwaukee              Milwaukee  \n",
      "114937          AUT                 Vienna     Gerasdorf Bei Wien  \n",
      "114938          GBR                 London                 London  \n",
      "114939          GBR                 London                 London  \n",
      "114940          GBR                 London                 London  \n",
      "114941          CHN                Beijing                Beijing  \n",
      "114942          HRV                  Split                  Split  \n",
      "114943          HRV                  Split                  Split  \n",
      "114944          HRV                  Split                  Split  \n",
      "114945          HRV                  Split                  Split  \n",
      "114947          USA            SF Bay Area          San Francisco  \n",
      "114948          NaN                    NaN                    NaN  \n",
      "\n",
      "[113364 rows x 11 columns]\n"
     ]
    }
   ],
   "source": [
    "print(master_frame)"
   ]
  },
  {
   "cell_type": "code",
   "execution_count": null,
   "metadata": {},
   "outputs": [],
   "source": []
  }
 ],
 "metadata": {
  "kernelspec": {
   "display_name": "Python 3",
   "language": "python",
   "name": "python3"
  },
  "language_info": {
   "codemirror_mode": {
    "name": "ipython",
    "version": 3
   },
   "file_extension": ".py",
   "mimetype": "text/x-python",
   "name": "python",
   "nbconvert_exporter": "python",
   "pygments_lexer": "ipython3",
   "version": "3.6.5"
  }
 },
 "nbformat": 4,
 "nbformat_minor": 2
}
